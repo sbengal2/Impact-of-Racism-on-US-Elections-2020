{
 "cells": [
  {
   "cell_type": "code",
   "execution_count": 57,
   "metadata": {},
   "outputs": [],
   "source": [
    "import matplotlib.pyplot as plt\n",
    "import numpy as np\n",
    "import matplotlib as mpl\n",
    "mpl.rcParams['figure.dpi'] = 150\n",
    "\n",
    "\n",
    "def data_set_plotter():\n",
    "    x = np.array([0,1,2])\n",
    "    total = np.array([132235,25397,29378])\n",
    "    positive = np.array([49858,10750,13538])\n",
    "    negative = np.array([70429,13488,13110])\n",
    "    labels = ['Race dataset','Trump dataset','Biden dataset']\n",
    "    ax = plt.subplot(111)\n",
    "    ax.set_xticks(np.arange(len(labels)))\n",
    "    ax.set_xticklabels(labels)\n",
    "    ax.bar(x-0.2, total, width=0.2, color='b', align='center',label='total tweets')\n",
    "    ax.bar(x, positive, width=0.2, color='g', align='center',label='positive tweets')\n",
    "    ax.bar(x+0.2, negative, width=0.2, color='r', align='center',label='negative tweets')\n",
    "    ax.set_xlabel('Datasets')\n",
    "    ax.set_ylabel('number of comments')\n",
    "    ax.set_title('Filtered Reddit Datasets')\n",
    "    ax.legend()\n",
    "    plt.tight_layout()\n",
    "    plt.plot()\n",
    "    plt.savefig('reddit_datasets.png')   # <-- save first\n",
    "    plt.show()"
   ]
  },
  {
   "cell_type": "code",
   "execution_count": 69,
   "metadata": {},
   "outputs": [],
   "source": [
    "def collection_plotter():\n",
    "    x = np.array([0,1])\n",
    "    total = np.array([132235,25397])\n",
    "    filtered = np.array([49858,10750])\n",
    "    labels = ['Twitter','Reddit']\n",
    "    ax = plt.subplot(111)\n",
    "    ax.set_xticks(np.arange(len(labels)))\n",
    "    ax.set_xticklabels(labels)\n",
    "    ax.bar(x-0.2, total, width=0.2, color='r', align='center',label='total data')\n",
    "    ax.bar(x, filtered, width=0.2, color='b', align='center',label='filtered data')\n",
    "    ax.set_xlabel('Social Networks')\n",
    "    ax.set_ylabel('number of tweets/comments')\n",
    "    ax.set_title('Collected Data vs Filtered Data')\n",
    "    ax.legend()\n",
    "    plt.tight_layout()\n",
    "    plt.plot()\n",
    "    plt.savefig('collected_vs_filtered.png')   # <-- save first\n",
    "    plt.show()"
   ]
  },
  {
   "cell_type": "code",
   "execution_count": null,
   "metadata": {},
   "outputs": [],
   "source": [
    "def hourly_plot():\n",
    "    "
   ]
  }
 ],
 "metadata": {
  "kernelspec": {
   "display_name": "Python 3",
   "language": "python",
   "name": "python3"
  },
  "language_info": {
   "codemirror_mode": {
    "name": "ipython",
    "version": 3
   },
   "file_extension": ".py",
   "mimetype": "text/x-python",
   "name": "python",
   "nbconvert_exporter": "python",
   "pygments_lexer": "ipython3",
   "version": "3.8.3"
  }
 },
 "nbformat": 4,
 "nbformat_minor": 2
}
